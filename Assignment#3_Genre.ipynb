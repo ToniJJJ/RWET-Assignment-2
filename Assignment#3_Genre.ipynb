{
 "cells": [
  {
   "cell_type": "code",
   "execution_count": 1,
   "id": "4365d8e6",
   "metadata": {},
   "outputs": [
    {
     "name": "stdout",
     "output_type": "stream",
     "text": [
      "Requirement already satisfied: tracery in /Users/yudong-gu/opt/anaconda3/lib/python3.9/site-packages (0.1.1)\n",
      "Note: you may need to restart the kernel to use updated packages.\n"
     ]
    }
   ],
   "source": [
    "pip install tracery"
   ]
  },
  {
   "cell_type": "code",
   "execution_count": 5,
   "id": "7daa1fbc",
   "metadata": {},
   "outputs": [],
   "source": [
    "import tracery"
   ]
  },
  {
   "cell_type": "code",
   "execution_count": 6,
   "id": "81005726",
   "metadata": {},
   "outputs": [],
   "source": [
    "import random"
   ]
  },
  {
   "cell_type": "code",
   "execution_count": 30,
   "id": "d5c427a6",
   "metadata": {},
   "outputs": [],
   "source": [
    "from tracery.modifiers import base_english"
   ]
  },
  {
   "cell_type": "code",
   "execution_count": 40,
   "id": "d6b776a8",
   "metadata": {},
   "outputs": [
    {
     "name": "stdout",
     "output_type": "stream",
     "text": [
      "Nevermind, is front steering and suspension still available?\n",
      "Yes, it is free. Come pick it up.\n",
      "Really? If so, give it to me $100 FAQ.\n",
      "No, I am unable to do that.\n",
      "Then send free for uber? LOL\n",
      "\n",
      "\n",
      "Dammit, is  women’s clothing still available?\n",
      "Yes, it is free. Come pick it up.\n",
      "Really? If so, give it to me $100 EOD.\n",
      "No, I am unable to do that.\n",
      "Then send free for uber? BTW\n",
      "\n",
      "\n",
      "Howdy, is superhero boots  still available?\n",
      "Yes, it is $2. Come pick it up.\n",
      "Really? If so, give it to me $2 BTS.\n",
      "No, I am unable to do that.\n",
      "Then send $2 for uber? BTW\n",
      "\n",
      "\n",
      "Dammit, is signage still available?\n",
      "Yes, it is $100. Come pick it up.\n",
      "Really? If so, give it to me free FAQ.\n",
      "No, I am unable to do that.\n",
      "Then send $2 for uber? ABT\n",
      "\n",
      "\n",
      "congratulations, is  sweatpants still available?\n",
      "Yes, it is $2. Come pick it up.\n",
      "Really? If so, give it to me free TTYL.\n",
      "No, I am unable to do that.\n",
      "Then send free for uber? LNK\n",
      "\n",
      "\n",
      "congratulations, is tumbler with straws still available?\n",
      "Yes, it is $2. Come pick it up.\n",
      "Really? If so, give it to me free GG.\n",
      "No, I am unable to do that.\n",
      "Then send free for uber? H8\n",
      "\n",
      "\n",
      "Hello, is watch back remover tools still available?\n",
      "Yes, it is $2. Come pick it up.\n",
      "Really? If so, give it to me free IYKYK.\n",
      "No, I am unable to do that.\n",
      "Then send $100 for uber? BRB\n",
      "\n",
      "\n"
     ]
    }
   ],
   "source": [
    "rules ={\n",
    "    \"origin\":\"#interjection#, is #noun# still available?\"\"\\n\"\n",
    "             \"Yes, it is #price#. Come pick it up.\"\"\\n\"\n",
    "             \"Really? If so, give it to me #price# #acronyms#.\"\"\\n\"\n",
    "             \"No, I am unable to do that.\"\"\\n\"\n",
    "             \"Then send #price# for uber? #acronyms.capitalize#\"\"\\n\"\"\\n\",\n",
    "    \"interjection\": [\n",
    "        \"Hello\",\n",
    "        \"Dammit\",\n",
    "        \"Nevermind\",\n",
    "        \"Oh hey\",\n",
    "        \"congratulations\",\n",
    "        \"Thanks\",\n",
    "        \"Howdy\",\n",
    "    ],\n",
    "    \"price\": [\n",
    "        \"free\",\n",
    "        \"$2\",\n",
    "        \"$100\",\n",
    "        \n",
    "    ],\n",
    "    \"noun\": onsale, \n",
    "    \"acronyms\":acronyms\n",
    "}\n",
    "for i in range(7) :\n",
    "    grammar = tracery.Grammar(rules)\n",
    "    grammar.add_modifiers(base_english)\n",
    "    print(grammar.flatten(\"#origin#\"))"
   ]
  },
  {
   "cell_type": "code",
   "execution_count": 31,
   "id": "59fd97f6",
   "metadata": {},
   "outputs": [],
   "source": [
    "acronyms = [item.upper() for item in open(\"acronym.txt\").read().split(\"\\n\")]"
   ]
  },
  {
   "cell_type": "code",
   "execution_count": 32,
   "id": "9e4d37da",
   "metadata": {},
   "outputs": [],
   "source": [
    "onsale = [item.lower() for item in open(\"on_sale.txt\").read().split(\"\\n\")]"
   ]
  }
 ],
 "metadata": {
  "kernelspec": {
   "display_name": "Python 3 (ipykernel)",
   "language": "python",
   "name": "python3"
  },
  "language_info": {
   "codemirror_mode": {
    "name": "ipython",
    "version": 3
   },
   "file_extension": ".py",
   "mimetype": "text/x-python",
   "name": "python",
   "nbconvert_exporter": "python",
   "pygments_lexer": "ipython3",
   "version": "3.9.13"
  }
 },
 "nbformat": 4,
 "nbformat_minor": 5
}
